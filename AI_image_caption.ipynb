{
  "nbformat": 4,
  "nbformat_minor": 0,
  "metadata": {
    "colab": {
      "provenance": []
    },
    "kernelspec": {
      "name": "python3",
      "display_name": "Python 3"
    },
    "language_info": {
      "name": "python"
    }
  },
  "cells": [
    {
      "cell_type": "code",
      "execution_count": null,
      "metadata": {
        "id": "zgmdpcPrvOKD"
      },
      "outputs": [],
      "source": [
        "import torch\n",
        "from PIL import Image\n",
        "from transformers import CLIPProcessor, CLIPModel, AutoProcessor, AutoModelForCausalLM"
      ]
    },
    {
      "cell_type": "code",
      "source": [
        "# image loading and preprocessing\n",
        "def load_and_preprocess_image(image_path):\n",
        "    image = Image.open(image_path).convert(\"RGB\")\n",
        "    processor = CLIPProcessor.from_pretrained(\"openai/clip-vit-base-patch32\")\n",
        "    inputs = processor(images=image, return_tensors=\"pt\")\n",
        "    return inputs, processor"
      ],
      "metadata": {
        "id": "TtG97t3mvZ2s"
      },
      "execution_count": null,
      "outputs": []
    },
    {
      "cell_type": "code",
      "source": [
        "# image understanding with CLIP\n",
        "def generate_image_embeddings(inputs):\n",
        "    model = CLIPModel.from_pretrained(\"openai/clip-vit-base-patch32\")\n",
        "    with torch.no_grad():\n",
        "        image_features = model.get_image_features(**inputs)\n",
        "\n",
        "    return image_features, model"
      ],
      "metadata": {
        "id": "gtaGbDgUvl66"
      },
      "execution_count": null,
      "outputs": []
    },
    {
      "cell_type": "code",
      "source": [
        "# caption matching (using CLIP text embeddings)\n",
        "def match_captions(image_features, captions, clip_model, processor):\n",
        "    # 1. get text embeddings for the captions:\n",
        "    text_inputs = processor(text=captions, return_tensors=\"pt\", padding=True)\n",
        "    with torch.no_grad():\n",
        "        text_features = clip_model.get_text_features(**text_inputs)\n",
        "\n",
        "    # 2. calculate cosine similarity between image and text features:\n",
        "    image_features = image_features.detach().cpu().numpy()\n",
        "    text_features = text_features.detach().cpu().numpy()\n",
        "\n",
        "    similarities = cosine_similarity(image_features, text_features)\n",
        "\n",
        "    # 3. find the best matching captions:\n",
        "    best_indices = similarities.argsort(axis=1)[0][::-1]\n",
        "    best_captions = [captions[i] for i in best_indices]\n",
        "\n",
        "    return best_captions, similarities[0][best_indices].tolist()"
      ],
      "metadata": {
        "id": "lZzLew4Uvoym"
      },
      "execution_count": null,
      "outputs": []
    },
    {
      "cell_type": "code",
      "source": [
        "# main function\n",
        "def image_captioning(image_path, candidate_captions):\n",
        "    inputs, processor = load_and_preprocess_image(image_path)\n",
        "    image_features, clip_model = generate_image_embeddings(inputs)\n",
        "\n",
        "    best_captions, similarities = match_captions(image_features, candidate_captions, clip_model, processor)\n",
        "    return best_captions, similarities"
      ],
      "metadata": {
        "id": "Ye3jKO2uvsvN"
      },
      "execution_count": null,
      "outputs": []
    },
    {
      "cell_type": "code",
      "source": [
        "candidate_captions = [\n",
        "    \"Trees, Travel and Tea!\",\n",
        "    \"A refreshing beverage.\",\n",
        "    \"A moment of indulgence.\",\n",
        "    \"The perfect thirst quencher.\",\n",
        "    \"Your daily dose of delight.\",\n",
        "    \"Taste the tradition.\",\n",
        "    \"Savor the flavor.\",\n",
        "    \"Refresh and rejuvenate.\",\n",
        "    \"Unwind and enjoy.\",\n",
        "    \"The taste of home.\",\n",
        "    \"A treat for your senses.\",\n",
        "    \"A taste of adventure.\",\n",
        "    \"A moment of bliss.\",\n",
        "    \"Your travel companion.\",\n",
        "    \"Fuel for your journey.\",\n",
        "    \"The essence of nature.\",\n",
        "    \"The warmth of comfort.\",\n",
        "    \"A sip of happiness.\",\n",
        "    \"Pure indulgence.\",\n",
        "    \"Quench your thirst, ignite your spirit.\",\n",
        "    \"Awaken your senses, embrace the moment.\",\n",
        "    \"The taste of faraway lands.\",\n",
        "    \"A taste of home, wherever you are.\",\n",
        "    \"Your daily dose of delight.\",\n",
        "    \"Your moment of serenity.\",\n",
        "    \"The perfect pick-me-up.\",\n",
        "    \"The perfect way to unwind.\",\n",
        "    \"Taste the difference.\",\n",
        "    \"Experience the difference.\",\n",
        "    \"A refreshing escape.\",\n",
        "    \"A delightful escape.\",\n",
        "    \"The taste of tradition, the spirit of adventure.\",\n",
        "    \"The warmth of home, the joy of discovery.\",\n",
        "    \"Your passport to flavor.\",\n",
        "    \"Your ticket to tranquility.\",\n",
        "    \"Sip, savor, and explore.\",\n",
        "    \"Indulge, relax, and rejuvenate.\",\n",
        "    \"The taste of wanderlust.\",\n",
        "    \"The comfort of home.\",\n",
        "    \"A journey for your taste buds.\",\n",
        "    \"A haven for your senses.\",\n",
        "    \"Your refreshing companion.\",\n",
        "    \"Your delightful escape.\",\n",
        "    \"Taste the world, one sip at a time.\",\n",
        "    \"Embrace the moment, one cup at a time.\",\n",
        "    \"The essence of exploration.\",\n",
        "    \"The comfort of connection.\",\n",
        "    \"Quench your thirst for adventure.\",\n",
        "    \"Savor the moment of peace.\",\n",
        "    \"The taste of discovery.\",\n",
        "    \"The warmth of belonging.\",\n",
        "    \"Your travel companion, your daily delight.\",\n",
        "    \"Your moment of peace, your daily indulgence.\",\n",
        "    \"The spirit of exploration, the comfort of home.\",\n",
        "    \"The joy of discovery, the warmth of connection.\",\n",
        "    \"Sip, savor, and set off on an adventure.\",\n",
        "    \"Indulge, relax, and find your peace.\",\n",
        "    \"A delightful beverage.\",\n",
        "    \"A moment of relaxation.\",\n",
        "    \"The perfect way to start your day.\",\n",
        "    \"The perfect way to end your day.\",\n",
        "    \"A treat for yourself.\",\n",
        "    \"Something to savor.\",\n",
        "    \"A moment of calm.\",\n",
        "    \"A taste of something special.\",\n",
        "    \"A refreshing pick-me-up.\",\n",
        "    \"A comforting drink.\",\n",
        "    \"A taste of adventure.\",\n",
        "    \"A moment of peace.\",\n",
        "    \"A small indulgence.\",\n",
        "    \"A daily ritual.\",\n",
        "    \"A way to connect with others.\",\n",
        "    \"A way to connect with yourself.\",\n",
        "    \"A taste of home.\",\n",
        "    \"A taste of something new.\",\n",
        "    \"A moment to enjoy.\",\n",
        "    \"A moment to remember.\"\n",
        "]"
      ],
      "metadata": {
        "id": "biQVbjWuvw4-"
      },
      "execution_count": null,
      "outputs": []
    },
    {
      "cell_type": "code",
      "source": [
        "from sklearn.metrics.pairwise import cosine_similarity\n",
        "\n",
        "best_captions, similarities = image_captioning(r\"/content/download.jpg\", candidate_captions)\n",
        "\n",
        "# get the top 5 results\n",
        "top_n = min(5, len(best_captions))\n",
        "top_best_captions = best_captions[:top_n]\n",
        "top_similarities = similarities[:top_n]\n",
        "\n",
        "print(\"Top 5 Best Captions:\")\n",
        "for i, (caption, similarity) in enumerate(zip(top_best_captions, top_similarities)):\n",
        "    print(f\"{i+1}. {caption} (Similarity: {similarity:.4f})\")"
      ],
      "metadata": {
        "colab": {
          "base_uri": "https://localhost:8080/"
        },
        "id": "HBz_gVbbv0Db",
        "outputId": "e0aacbcc-548a-435c-df99-b3c0748cc200"
      },
      "execution_count": null,
      "outputs": [
        {
          "output_type": "stream",
          "name": "stdout",
          "text": [
            "Top 5 Best Captions:\n",
            "1. Awaken your senses, embrace the moment. (Similarity: 0.2626)\n",
            "2. Quench your thirst, ignite your spirit. (Similarity: 0.2446)\n",
            "3. A taste of something new. (Similarity: 0.2319)\n",
            "4. The taste of discovery. (Similarity: 0.2304)\n",
            "5. The essence of exploration. (Similarity: 0.2283)\n"
          ]
        }
      ]
    },
    {
      "cell_type": "code",
      "source": [],
      "metadata": {
        "id": "u_vVsD_mwSvW"
      },
      "execution_count": null,
      "outputs": []
    }
  ]
}